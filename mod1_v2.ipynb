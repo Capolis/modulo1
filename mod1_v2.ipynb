        "Esse arquivo esta vazio, apenas para teste ;)"
